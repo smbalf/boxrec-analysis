{
 "cells": [
  {
   "cell_type": "code",
   "execution_count": 41,
   "metadata": {},
   "outputs": [],
   "source": [
    "import pandas as pd\n",
    "import numpy as np\n",
    "\n",
    "boxrec_data = pd.read_csv('boxrec_tables.csv')\n",
    "df = pd.DataFrame(boxrec_data)"
   ]
  },
  {
   "attachments": {},
   "cell_type": "markdown",
   "metadata": {},
   "source": [
    "stance - missing = 82/793 - pct missing = 10.34%    \n",
    "height - missing = 98/793 - pct missing = 12.36%    \n",
    "reach - missing = 380/793 - pct missing = 47.92%    \n",
    "birth place - missing = 79/793 - pct missing = 9.96%\n",
    "\n",
    "age - missing = 19/793 - pct missing = 2.4%"
   ]
  },
  {
   "cell_type": "code",
   "execution_count": 42,
   "metadata": {},
   "outputs": [],
   "source": [
    "df.replace(to_replace='None', value=np.nan, regex=True, inplace=True)\n",
    "\n",
    "df.insert(3, 'div index', '')\n",
    "\n",
    "div_list = ['heavy', 'cruiser', 'lightheavy', 'supermiddle', 'middle', 'superwelter', 'welter', 'superlight', 'light', 'feather', 'superbantam', 'bantam', 'superfly', 'fly', 'lightfly', 'minimum']\n",
    "\n",
    "x = 0\n",
    "for value in df['division']:\n",
    "    df.at[x, 'div index'] = div_list.index(value)\n",
    "    x += 1"
   ]
  },
  {
   "cell_type": "code",
   "execution_count": 43,
   "metadata": {},
   "outputs": [],
   "source": [
    "ds = df.sort_values(by=['div index', 'division rating'], ascending=True)\n",
    "# Can see age/height/reach need to be turned to float64s\n",
    "cols_to_convert = ['age', 'height', 'reach']\n",
    "\n",
    "for col in cols_to_convert:\n",
    "    ds[col] = ds[col].astype(float)"
   ]
  },
  {
   "cell_type": "code",
   "execution_count": 44,
   "metadata": {},
   "outputs": [],
   "source": [
    "dropped_missing_height_ds = ds.dropna(subset=['height'])\n",
    "#Dropping missing height values gives 695 rows \n",
    "dropped_age_ds = dropped_missing_height_ds.dropna(subset=['age'])\n",
    "#Dropping the missing age values from the new dataframe leaves 688 rows of data.\n",
    "new_ds = dropped_age_ds"
   ]
  },
  {
   "cell_type": "code",
   "execution_count": 45,
   "metadata": {},
   "outputs": [],
   "source": [
    "def replace_nan_with_mean(dataframe, column, grouping_column):\n",
    "    dataframe[column] = dataframe.groupby(grouping_column)[column].transform(lambda x: x.fillna(round(x.mean(), 2)))"
   ]
  },
  {
   "cell_type": "code",
   "execution_count": null,
   "metadata": {},
   "outputs": [],
   "source": [
    "diff_reach = new_ds.reach - new_ds.height\n",
    "new_ds.insert(12, 'diff reach', diff_reach)\n",
    "\n",
    "replace_nan_with_mean(new_ds, 'diff reach', 'division')"
   ]
  },
  {
   "cell_type": "code",
   "execution_count": 47,
   "metadata": {},
   "outputs": [
    {
     "data": {
      "text/plain": [
       "279"
      ]
     },
     "execution_count": 47,
     "metadata": {},
     "output_type": "execute_result"
    }
   ],
   "source": [
    "new_ds.reach.isnull().sum()"
   ]
  },
  {
   "cell_type": "code",
   "execution_count": null,
   "metadata": {},
   "outputs": [],
   "source": [
    "new_list = new_ds.reach.isnull().index\n",
    "reach_min = new_ds.reach.min()\n",
    "\n",
    "for x in new_list:\n",
    "    if new_ds.reach[x] >= reach_min:\n",
    "        pass\n",
    "    else:\n",
    "        new_ds.reach[x] = new_ds.height[x] + new_ds['diff reach'][x]"
   ]
  },
  {
   "cell_type": "code",
   "execution_count": 49,
   "metadata": {},
   "outputs": [],
   "source": [
    "import matplotlib.pyplot as plt"
   ]
  },
  {
   "cell_type": "code",
   "execution_count": null,
   "metadata": {},
   "outputs": [],
   "source": [
    "new_ds.plot.scatter(x='height', y='reach', c='div index', colormap='viridis')"
   ]
  },
  {
   "attachments": {},
   "cell_type": "markdown",
   "metadata": {},
   "source": [
    "clear relationship between the division and the height/reach of a boxer - the heavier the division, the greater the fighter's length or reach. there are some obvious outliers in the data too."
   ]
  },
  {
   "cell_type": "code",
   "execution_count": 50,
   "metadata": {},
   "outputs": [
    {
     "data": {
      "text/html": [
       "<div>\n",
       "<style scoped>\n",
       "    .dataframe tbody tr th:only-of-type {\n",
       "        vertical-align: middle;\n",
       "    }\n",
       "\n",
       "    .dataframe tbody tr th {\n",
       "        vertical-align: top;\n",
       "    }\n",
       "\n",
       "    .dataframe thead th {\n",
       "        text-align: right;\n",
       "    }\n",
       "</style>\n",
       "<table border=\"1\" class=\"dataframe\">\n",
       "  <thead>\n",
       "    <tr style=\"text-align: right;\">\n",
       "      <th></th>\n",
       "      <th>division rating</th>\n",
       "      <th>bouts</th>\n",
       "      <th>rounds</th>\n",
       "      <th>KOs</th>\n",
       "      <th>age</th>\n",
       "      <th>height</th>\n",
       "      <th>reach</th>\n",
       "      <th>diff reach</th>\n",
       "      <th>wins</th>\n",
       "      <th>losses</th>\n",
       "      <th>draws</th>\n",
       "      <th>KO wins</th>\n",
       "      <th>KO losses</th>\n",
       "    </tr>\n",
       "    <tr>\n",
       "      <th>div index</th>\n",
       "      <th></th>\n",
       "      <th></th>\n",
       "      <th></th>\n",
       "      <th></th>\n",
       "      <th></th>\n",
       "      <th></th>\n",
       "      <th></th>\n",
       "      <th></th>\n",
       "      <th></th>\n",
       "      <th></th>\n",
       "      <th></th>\n",
       "      <th></th>\n",
       "      <th></th>\n",
       "    </tr>\n",
       "  </thead>\n",
       "  <tbody>\n",
       "    <tr>\n",
       "      <th>0</th>\n",
       "      <td>26.36</td>\n",
       "      <td>23.47</td>\n",
       "      <td>111.19</td>\n",
       "      <td>69.30</td>\n",
       "      <td>33.21</td>\n",
       "      <td>193.04</td>\n",
       "      <td>199.01</td>\n",
       "      <td>5.97</td>\n",
       "      <td>21.28</td>\n",
       "      <td>1.77</td>\n",
       "      <td>0.28</td>\n",
       "      <td>15.81</td>\n",
       "      <td>0.85</td>\n",
       "    </tr>\n",
       "    <tr>\n",
       "      <th>1</th>\n",
       "      <td>24.00</td>\n",
       "      <td>24.64</td>\n",
       "      <td>129.90</td>\n",
       "      <td>62.04</td>\n",
       "      <td>32.79</td>\n",
       "      <td>187.05</td>\n",
       "      <td>192.78</td>\n",
       "      <td>5.73</td>\n",
       "      <td>21.98</td>\n",
       "      <td>2.31</td>\n",
       "      <td>0.29</td>\n",
       "      <td>14.88</td>\n",
       "      <td>0.88</td>\n",
       "    </tr>\n",
       "    <tr>\n",
       "      <th>2</th>\n",
       "      <td>24.47</td>\n",
       "      <td>21.51</td>\n",
       "      <td>110.98</td>\n",
       "      <td>58.31</td>\n",
       "      <td>31.42</td>\n",
       "      <td>184.86</td>\n",
       "      <td>187.39</td>\n",
       "      <td>2.53</td>\n",
       "      <td>19.47</td>\n",
       "      <td>1.77</td>\n",
       "      <td>0.26</td>\n",
       "      <td>12.44</td>\n",
       "      <td>0.93</td>\n",
       "    </tr>\n",
       "    <tr>\n",
       "      <th>3</th>\n",
       "      <td>25.29</td>\n",
       "      <td>24.54</td>\n",
       "      <td>136.42</td>\n",
       "      <td>58.51</td>\n",
       "      <td>30.40</td>\n",
       "      <td>182.38</td>\n",
       "      <td>185.64</td>\n",
       "      <td>3.26</td>\n",
       "      <td>21.69</td>\n",
       "      <td>2.27</td>\n",
       "      <td>0.52</td>\n",
       "      <td>13.90</td>\n",
       "      <td>0.73</td>\n",
       "    </tr>\n",
       "    <tr>\n",
       "      <th>4</th>\n",
       "      <td>24.60</td>\n",
       "      <td>24.35</td>\n",
       "      <td>130.56</td>\n",
       "      <td>58.92</td>\n",
       "      <td>30.81</td>\n",
       "      <td>181.05</td>\n",
       "      <td>184.65</td>\n",
       "      <td>3.60</td>\n",
       "      <td>21.95</td>\n",
       "      <td>1.79</td>\n",
       "      <td>0.56</td>\n",
       "      <td>14.21</td>\n",
       "      <td>0.72</td>\n",
       "    </tr>\n",
       "    <tr>\n",
       "      <th>5</th>\n",
       "      <td>25.92</td>\n",
       "      <td>25.96</td>\n",
       "      <td>150.67</td>\n",
       "      <td>55.39</td>\n",
       "      <td>30.52</td>\n",
       "      <td>177.81</td>\n",
       "      <td>181.42</td>\n",
       "      <td>3.61</td>\n",
       "      <td>23.06</td>\n",
       "      <td>2.27</td>\n",
       "      <td>0.56</td>\n",
       "      <td>13.94</td>\n",
       "      <td>0.71</td>\n",
       "    </tr>\n",
       "    <tr>\n",
       "      <th>6</th>\n",
       "      <td>25.12</td>\n",
       "      <td>22.29</td>\n",
       "      <td>122.04</td>\n",
       "      <td>55.35</td>\n",
       "      <td>30.69</td>\n",
       "      <td>177.23</td>\n",
       "      <td>180.50</td>\n",
       "      <td>3.27</td>\n",
       "      <td>20.25</td>\n",
       "      <td>1.54</td>\n",
       "      <td>0.40</td>\n",
       "      <td>12.25</td>\n",
       "      <td>0.52</td>\n",
       "    </tr>\n",
       "    <tr>\n",
       "      <th>7</th>\n",
       "      <td>24.76</td>\n",
       "      <td>23.35</td>\n",
       "      <td>123.43</td>\n",
       "      <td>59.41</td>\n",
       "      <td>29.52</td>\n",
       "      <td>175.43</td>\n",
       "      <td>178.66</td>\n",
       "      <td>3.22</td>\n",
       "      <td>21.50</td>\n",
       "      <td>1.50</td>\n",
       "      <td>0.28</td>\n",
       "      <td>13.61</td>\n",
       "      <td>0.33</td>\n",
       "    </tr>\n",
       "    <tr>\n",
       "      <th>8</th>\n",
       "      <td>24.41</td>\n",
       "      <td>26.17</td>\n",
       "      <td>155.20</td>\n",
       "      <td>55.07</td>\n",
       "      <td>29.80</td>\n",
       "      <td>172.30</td>\n",
       "      <td>174.67</td>\n",
       "      <td>2.37</td>\n",
       "      <td>23.70</td>\n",
       "      <td>1.91</td>\n",
       "      <td>0.43</td>\n",
       "      <td>13.91</td>\n",
       "      <td>0.70</td>\n",
       "    </tr>\n",
       "    <tr>\n",
       "      <th>9</th>\n",
       "      <td>24.96</td>\n",
       "      <td>23.64</td>\n",
       "      <td>135.30</td>\n",
       "      <td>49.19</td>\n",
       "      <td>27.79</td>\n",
       "      <td>170.23</td>\n",
       "      <td>172.67</td>\n",
       "      <td>2.43</td>\n",
       "      <td>21.36</td>\n",
       "      <td>1.79</td>\n",
       "      <td>0.43</td>\n",
       "      <td>11.55</td>\n",
       "      <td>0.62</td>\n",
       "    </tr>\n",
       "    <tr>\n",
       "      <th>10</th>\n",
       "      <td>23.74</td>\n",
       "      <td>22.90</td>\n",
       "      <td>132.95</td>\n",
       "      <td>48.00</td>\n",
       "      <td>28.81</td>\n",
       "      <td>168.33</td>\n",
       "      <td>173.00</td>\n",
       "      <td>4.67</td>\n",
       "      <td>20.33</td>\n",
       "      <td>2.00</td>\n",
       "      <td>0.52</td>\n",
       "      <td>11.05</td>\n",
       "      <td>0.48</td>\n",
       "    </tr>\n",
       "    <tr>\n",
       "      <th>11</th>\n",
       "      <td>23.35</td>\n",
       "      <td>23.95</td>\n",
       "      <td>126.65</td>\n",
       "      <td>55.74</td>\n",
       "      <td>28.88</td>\n",
       "      <td>166.20</td>\n",
       "      <td>169.77</td>\n",
       "      <td>3.57</td>\n",
       "      <td>21.20</td>\n",
       "      <td>2.17</td>\n",
       "      <td>0.42</td>\n",
       "      <td>13.70</td>\n",
       "      <td>0.65</td>\n",
       "    </tr>\n",
       "    <tr>\n",
       "      <th>12</th>\n",
       "      <td>25.08</td>\n",
       "      <td>27.79</td>\n",
       "      <td>165.13</td>\n",
       "      <td>49.67</td>\n",
       "      <td>29.97</td>\n",
       "      <td>165.28</td>\n",
       "      <td>168.45</td>\n",
       "      <td>3.17</td>\n",
       "      <td>23.21</td>\n",
       "      <td>3.51</td>\n",
       "      <td>1.03</td>\n",
       "      <td>14.18</td>\n",
       "      <td>0.77</td>\n",
       "    </tr>\n",
       "    <tr>\n",
       "      <th>13</th>\n",
       "      <td>25.59</td>\n",
       "      <td>19.18</td>\n",
       "      <td>102.82</td>\n",
       "      <td>50.43</td>\n",
       "      <td>28.03</td>\n",
       "      <td>163.54</td>\n",
       "      <td>166.86</td>\n",
       "      <td>3.32</td>\n",
       "      <td>16.85</td>\n",
       "      <td>1.90</td>\n",
       "      <td>0.36</td>\n",
       "      <td>10.31</td>\n",
       "      <td>0.56</td>\n",
       "    </tr>\n",
       "    <tr>\n",
       "      <th>14</th>\n",
       "      <td>22.58</td>\n",
       "      <td>20.42</td>\n",
       "      <td>116.31</td>\n",
       "      <td>48.29</td>\n",
       "      <td>27.78</td>\n",
       "      <td>161.50</td>\n",
       "      <td>163.23</td>\n",
       "      <td>1.73</td>\n",
       "      <td>16.25</td>\n",
       "      <td>3.28</td>\n",
       "      <td>0.75</td>\n",
       "      <td>9.17</td>\n",
       "      <td>1.17</td>\n",
       "    </tr>\n",
       "    <tr>\n",
       "      <th>15</th>\n",
       "      <td>23.26</td>\n",
       "      <td>19.88</td>\n",
       "      <td>119.91</td>\n",
       "      <td>40.49</td>\n",
       "      <td>26.82</td>\n",
       "      <td>159.82</td>\n",
       "      <td>162.62</td>\n",
       "      <td>2.80</td>\n",
       "      <td>16.21</td>\n",
       "      <td>3.09</td>\n",
       "      <td>0.53</td>\n",
       "      <td>8.09</td>\n",
       "      <td>0.94</td>\n",
       "    </tr>\n",
       "  </tbody>\n",
       "</table>\n",
       "</div>"
      ],
      "text/plain": [
       "           division rating  bouts  rounds    KOs    age  height   reach  \\\n",
       "div index                                                                 \n",
       "0                    26.36  23.47  111.19  69.30  33.21  193.04  199.01   \n",
       "1                    24.00  24.64  129.90  62.04  32.79  187.05  192.78   \n",
       "2                    24.47  21.51  110.98  58.31  31.42  184.86  187.39   \n",
       "3                    25.29  24.54  136.42  58.51  30.40  182.38  185.64   \n",
       "4                    24.60  24.35  130.56  58.92  30.81  181.05  184.65   \n",
       "5                    25.92  25.96  150.67  55.39  30.52  177.81  181.42   \n",
       "6                    25.12  22.29  122.04  55.35  30.69  177.23  180.50   \n",
       "7                    24.76  23.35  123.43  59.41  29.52  175.43  178.66   \n",
       "8                    24.41  26.17  155.20  55.07  29.80  172.30  174.67   \n",
       "9                    24.96  23.64  135.30  49.19  27.79  170.23  172.67   \n",
       "10                   23.74  22.90  132.95  48.00  28.81  168.33  173.00   \n",
       "11                   23.35  23.95  126.65  55.74  28.88  166.20  169.77   \n",
       "12                   25.08  27.79  165.13  49.67  29.97  165.28  168.45   \n",
       "13                   25.59  19.18  102.82  50.43  28.03  163.54  166.86   \n",
       "14                   22.58  20.42  116.31  48.29  27.78  161.50  163.23   \n",
       "15                   23.26  19.88  119.91  40.49  26.82  159.82  162.62   \n",
       "\n",
       "           diff reach   wins  losses  draws  KO wins  KO losses  \n",
       "div index                                                        \n",
       "0                5.97  21.28    1.77   0.28    15.81       0.85  \n",
       "1                5.73  21.98    2.31   0.29    14.88       0.88  \n",
       "2                2.53  19.47    1.77   0.26    12.44       0.93  \n",
       "3                3.26  21.69    2.27   0.52    13.90       0.73  \n",
       "4                3.60  21.95    1.79   0.56    14.21       0.72  \n",
       "5                3.61  23.06    2.27   0.56    13.94       0.71  \n",
       "6                3.27  20.25    1.54   0.40    12.25       0.52  \n",
       "7                3.22  21.50    1.50   0.28    13.61       0.33  \n",
       "8                2.37  23.70    1.91   0.43    13.91       0.70  \n",
       "9                2.43  21.36    1.79   0.43    11.55       0.62  \n",
       "10               4.67  20.33    2.00   0.52    11.05       0.48  \n",
       "11               3.57  21.20    2.17   0.42    13.70       0.65  \n",
       "12               3.17  23.21    3.51   1.03    14.18       0.77  \n",
       "13               3.32  16.85    1.90   0.36    10.31       0.56  \n",
       "14               1.73  16.25    3.28   0.75     9.17       1.17  \n",
       "15               2.80  16.21    3.09   0.53     8.09       0.94  "
      ]
     },
     "execution_count": 50,
     "metadata": {},
     "output_type": "execute_result"
    }
   ],
   "source": [
    "average_by_division = new_ds.groupby(['div index']).mean(numeric_only=True).round(2)\n",
    "average_everything_numeric = new_ds.mean(numeric_only=True).round(2)\n",
    "\n",
    "average_by_division"
   ]
  },
  {
   "cell_type": "code",
   "execution_count": null,
   "metadata": {},
   "outputs": [],
   "source": [
    "plt.figure(figsize=(16, 8), dpi=120)\n",
    "\n",
    "for x in average_by_division:\n",
    "    plt.plot(average_by_division[x], label=x)\n",
    "\n",
    "plt.title('Average of column values by Division')\n",
    "plt.xlabel('div index - 0=heavyweight, 15=minimumweight')\n",
    "plt.ylabel('Average value')\n",
    "plt.legend()\n",
    "plt.show()"
   ]
  },
  {
   "cell_type": "code",
   "execution_count": null,
   "metadata": {},
   "outputs": [],
   "source": [
    "fig, ax = plt.subplots()\n",
    "\n",
    "width = 16\n",
    "height = 8\n",
    "fig.set_size_inches(width, height)\n",
    "ax.plot(average_by_division['height'], label='height')\n",
    "ax.plot(average_by_division['KOs'], label='KOs')\n",
    "ax.plot(average_by_division['rounds'], label='rounds')\n",
    "ax.plot(average_by_division['reach'], label='reach')\n",
    "\n",
    "ax2 = ax.twinx()\n",
    "ax2.plot(average_by_division['age'], label='age', color='black')\n",
    "ax2.set_ylabel('Age')\n",
    "ax.legend()\n",
    "ax.set_xticks(np.arange(0, 16, 1))\n",
    "ax.set_title('Average of column values by Division')\n",
    "ax.set_xlabel('div index - 0=heavyweight, 15=minimumweight')\n",
    "ax.set_ylabel('Average value')"
   ]
  },
  {
   "cell_type": "code",
   "execution_count": null,
   "metadata": {},
   "outputs": [],
   "source": [
    "new_ds['reach'].hist(bins=20, alpha=0.5, legend=True)\n",
    "new_ds['height'].hist(bins=20, alpha=0.5, legend=True)"
   ]
  },
  {
   "cell_type": "code",
   "execution_count": null,
   "metadata": {},
   "outputs": [],
   "source": [
    "new_ds['age'].hist(bins=20, legend=True)"
   ]
  },
  {
   "cell_type": "code",
   "execution_count": null,
   "metadata": {},
   "outputs": [],
   "source": [
    "#CLEANING REMAINING NULL VALUES\n",
    "column_list = new_ds.columns\n",
    "\n",
    "for x in column_list:\n",
    "    if new_ds[x].isnull().sum() != 0:\n",
    "        print(f'{x} null values: {new_ds[x].isnull().sum()}')\n",
    "        # stance null values: 26\n",
    "        # birth place null values: 28\n",
    "\n",
    "stance_null = new_ds['stance'].isnull().index\n",
    "birth_null = new_ds['birth place'].isnull().index\n",
    "#7 birthplace nulls have no stance value, as there is no overlap and this isn't something that can be imputed, we are removing all nulls."
   ]
  },
  {
   "cell_type": "code",
   "execution_count": 52,
   "metadata": {},
   "outputs": [],
   "source": [
    "# removing stance and birthplace null values... will first remove stance nulls as they are more important, and then remove birth place nulls.\n",
    "dropping_stance_ds = new_ds.dropna(subset=['stance'])\n",
    "clean_ds = dropping_stance_ds.dropna(subset=['birth place'])\n",
    "# running null check\n",
    "for x in column_list:\n",
    "    if clean_ds[x].isnull().sum() != 0:\n",
    "        print(f'{x} null values: {clean_ds[x].isnull().sum()}')"
   ]
  },
  {
   "cell_type": "code",
   "execution_count": null,
   "metadata": {},
   "outputs": [],
   "source": [
    "from datetime import datetime\n",
    "\n",
    "dates = clean_ds.debut.index\n",
    "for x in dates:\n",
    "    clean_ds.debut[x] = datetime.strptime(clean_ds.debut[x], '%d/%m/%Y').date()\n",
    "\n",
    "clean_ds.debut = pd.to_datetime(clean_ds.debut)"
   ]
  },
  {
   "cell_type": "code",
   "execution_count": 54,
   "metadata": {},
   "outputs": [
    {
     "data": {
      "text/plain": [
       "name                       object\n",
       "division rating             int64\n",
       "division                   object\n",
       "div index                  object\n",
       "bouts                       int64\n",
       "rounds                      int64\n",
       "KOs                       float64\n",
       "debut              datetime64[ns]\n",
       "age                       float64\n",
       "stance                     object\n",
       "height                    float64\n",
       "reach                     float64\n",
       "diff reach                float64\n",
       "residence                  object\n",
       "birth place                object\n",
       "wins                        int64\n",
       "losses                      int64\n",
       "draws                       int64\n",
       "KO wins                     int64\n",
       "KO losses                   int64\n",
       "dtype: object"
      ]
     },
     "execution_count": 54,
     "metadata": {},
     "output_type": "execute_result"
    }
   ],
   "source": [
    "clean_ds.dtypes"
   ]
  },
  {
   "cell_type": "code",
   "execution_count": 55,
   "metadata": {},
   "outputs": [],
   "source": [
    "end_date = pd.to_datetime('2022/12/06')\n",
    "days_active = end_date - clean_ds.debut\n"
   ]
  },
  {
   "cell_type": "code",
   "execution_count": 56,
   "metadata": {},
   "outputs": [],
   "source": [
    "clean_ds.insert(8, 'days active', days_active)"
   ]
  },
  {
   "cell_type": "code",
   "execution_count": null,
   "metadata": {},
   "outputs": [],
   "source": [
    "#drop name + one hot encode 'stance'\n",
    "preproc_ds = clean_ds\n",
    "\n",
    "from sklearn.preprocessing import LabelEncoder\n",
    "label_encoder = LabelEncoder()\n",
    "\n",
    "#perform label encoding on 'team' column\n",
    "preproc_ds.stance= label_encoder.fit_transform(preproc_ds.stance)\n"
   ]
  },
  {
   "cell_type": "code",
   "execution_count": null,
   "metadata": {},
   "outputs": [],
   "source": [
    "preproc_ds = preproc_ds.drop('name', axis=1)\n",
    "preproc_ds = preproc_ds.drop('division', axis=1)\n",
    "preproc_ds = preproc_ds.drop('diff reach', axis=1)\n",
    "preproc_ds = preproc_ds.drop('residence', axis=1)\n",
    "preproc_ds = preproc_ds.drop('birth place', axis=1)\n",
    "preproc_ds = preproc_ds.drop('debut', axis=1)\n",
    "preproc_ds['div index'] = preproc_ds['div index'].astype(int)"
   ]
  },
  {
   "cell_type": "code",
   "execution_count": 94,
   "metadata": {},
   "outputs": [],
   "source": [
    "preproc_ds['days active'] = preproc_ds['days active'].astype(str)\n",
    "preproc_ds['days active'] = preproc_ds['days active'].map(lambda x: x.rstrip(' days'))\n",
    "preproc_ds['days active'] = preproc_ds['days active'].astype(int)"
   ]
  },
  {
   "cell_type": "code",
   "execution_count": 112,
   "metadata": {},
   "outputs": [
    {
     "data": {
      "text/plain": [
       "division rating      int64\n",
       "div index            int32\n",
       "bouts                int64\n",
       "rounds               int64\n",
       "KOs                float64\n",
       "days active          int32\n",
       "age                float64\n",
       "stance               int32\n",
       "height             float64\n",
       "reach              float64\n",
       "wins                 int64\n",
       "losses               int64\n",
       "draws                int64\n",
       "KO wins              int64\n",
       "KO losses            int64\n",
       "dtype: object"
      ]
     },
     "execution_count": 112,
     "metadata": {},
     "output_type": "execute_result"
    }
   ],
   "source": [
    "preproc_ds.dtypes"
   ]
  },
  {
   "cell_type": "code",
   "execution_count": 114,
   "metadata": {},
   "outputs": [],
   "source": [
    "four_ds = preproc_ds[['height', 'reach', 'age', 'stance']]"
   ]
  },
  {
   "cell_type": "code",
   "execution_count": 115,
   "metadata": {},
   "outputs": [
    {
     "data": {
      "text/plain": [
       "array([[172.27317073, 175.22658537,  29.13170732,   0.31219512],\n",
       "       [181.88888889, 185.53606061,  31.71212121,   0.22727273],\n",
       "       [162.52095808, 165.09023952,  28.64670659,   0.28742515],\n",
       "       [193.08695652, 199.93376812,  31.27536232,   0.23188406]])"
      ]
     },
     "execution_count": 115,
     "metadata": {},
     "output_type": "execute_result"
    }
   ],
   "source": [
    "from sklearn.cluster import KMeans\n",
    "\n",
    "kmeans = KMeans(n_clusters=4)\n",
    "kmeans.fit(four_ds)\n",
    "\n",
    "# Explore the results of the clustering algorithm\n",
    "kmeans.cluster_centers_"
   ]
  },
  {
   "cell_type": "code",
   "execution_count": 116,
   "metadata": {},
   "outputs": [],
   "source": [
    "import seaborn as sns; sns.set()\n",
    "\n",
    "y_kmeans = kmeans.predict(four_ds)"
   ]
  },
  {
   "cell_type": "code",
   "execution_count": 117,
   "metadata": {},
   "outputs": [
    {
     "data": {
      "image/png": "[encoded data removed]",
      "text/plain": [
       "<Figure size 640x480 with 1 Axes>"
      ]
     },
     "metadata": {},
     "output_type": "display_data"
    }
   ],
   "source": [
    "plt.scatter(four_ds.iloc[:, 0], four_ds.iloc[:, 1], c=y_kmeans, s=50, cmap='viridis')\n",
    "\n",
    "centers = kmeans.cluster_centers_\n",
    "plt.scatter(centers[:, 0], centers[:, 1], c='black', s=200, alpha=0.5);"
   ]
  },
  {
   "cell_type": "code",
   "execution_count": 119,
   "metadata": {},
   "outputs": [
    {
     "name": "stdout",
     "output_type": "stream",
     "text": [
      "[3 3 1 3 3 3 3 1 3 3 3 3 3 3 3 3 3 3 3 3 1 3 3 1 3 3 3 3 3 3 1 3 3 3 3 3 3\n",
      " 3 1 1 3 3 3 3 3 3 3 3 3 1 1 1 1 3 1 1 1 3 1 3 3 1 1 1 3 3 3 1 3 1 1 3 1 1\n",
      " 3 1 1 1 1 3 1 3 1 1 1 1 1 1 1 1 3 0 1 1 1 1 1 1 1 1 1 1 1 1 1 3 1 1 1 1 1\n",
      " 1 3 1 1 1 1 1 1 1 3 1 1 1 3 0 1 1 1 3 1 1 1 1 1 0 0 1 1 1 3 1 1 0 0 1 1 3\n",
      " 1 1 1 1 3 1 1 1 1 0 1 1 1 1 1 3 1 1 1 1 3 1 1 1 1 1 0 1 1 1 1 1 1 1 1 3 0\n",
      " 1 1 3 1 1 1 0 1 1 1 1 1 1 0 1 0 1 1 1 1 1 1 1 1 1 3 0 0 0 0 0 0 1 0 1 1 2\n",
      " 1 1 1 0 0 1 1 1 1 0 0 1 1 1 1 0 1 0 1 1 0 1 0 0 1 1 1 1 1 0 1 1 0 1 1 0 0\n",
      " 1 0 0 0 0 0 0 1 1 0 0 0 1 0 1 0 1 0 0 1 0 3 1 1 0 1 0 1 1 0 0 0 1 1 1 0 1\n",
      " 0 0 1 0 0 1 0 0 0 0 0 1 0 0 0 0 0 0 0 0 1 1 0 0 1 0 0 1 0 0 1 0 1 0 0 0 1\n",
      " 0 1 0 0 0 0 1 0 1 1 2 0 0 0 2 2 2 2 0 0 0 0 1 0 0 0 0 0 0 0 0 0 1 0 0 0 2\n",
      " 0 0 0 0 2 0 0 1 0 0 0 1 0 0 0 0 1 0 0 2 0 0 2 0 0 0 2 2 2 0 0 2 0 2 0 0 1\n",
      " 2 0 0 0 0 2 0 0 0 0 1 1 0 0 2 0 0 0 0 2 0 0 2 0 2 0 0 2 0 1 1 2 0 2 0 0 0\n",
      " 0 0 0 2 0 0 0 0 2 0 0 0 0 0 0 0 0 0 2 0 0 0 0 0 2 0 2 2 0 2 0 2 0 0 0 0 2\n",
      " 2 0 2 2 2 2 2 2 2 2 2 2 2 2 0 2 2 0 2 2 2 0 2 0 2 2 2 2 2 2 2 2 2 2 2 0 0\n",
      " 2 0 2 0 0 2 2 2 2 0 2 0 0 2 0 0 2 0 2 2 2 0 2 2 0 2 2 2 2 2 0 2 2 0 2 2 2\n",
      " 2 2 2 2 2 2 2 0 0 2 2 2 2 2 2 2 0 2 2 2 2 2 2 2 2 2 2 2 2 2 2 0 2 2 2 2 2\n",
      " 2 2 2 2 2 2 2 2 2 2 2 2 2 2 2 2 2 2 2 2 2 2 2 2 2 2 2 2 2 2 2 2 2 2 2 2 2\n",
      " 2 2 2 2 2 2 2 2 2 2]\n"
     ]
    }
   ],
   "source": [
    "print(kmeans.labels_)"
   ]
  }
 ],
 "metadata": {
  "kernelspec": {
   "display_name": "Python 3",
   "language": "python",
   "name": "python3"
  },
  "language_info": {
   "codemirror_mode": {
    "name": "ipython",
    "version": 3
   },
   "file_extension": ".py",
   "mimetype": "text/x-python",
   "name": "python",
   "nbconvert_exporter": "python",
   "pygments_lexer": "ipython3",
   "version": "3.10.4"
  },
  "orig_nbformat": 4,
  "vscode": {
   "interpreter": {
    "hash": "06b0aa4c7316fd05e1fbc35be8f0e5fb9e74ae2fa97553ccced32907b2c022cf"
   }
  }
 },
 "nbformat": 4,
 "nbformat_minor": 2
}
