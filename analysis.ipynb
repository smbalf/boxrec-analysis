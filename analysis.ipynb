{
 "cells": [
  {
   "cell_type": "markdown",
   "metadata": {},
   "source": [
    "To do:\n",
    "- create per division mean value of:\n",
    "    - rounds **DONE** \n",
    "    - age **DONE**\n",
    "    - bouts **DONE**\n",
    "    - wins **DONE**\n",
    "    - losses **DONE**\n",
    "    - draws **DONE**\n",
    "    - height **DONE**\n",
    "    - reach \n",
    "        - reach relative to height\n",
    "    - time since debut >> == (current date - debut)\n",
    "\n",
    "- for values missing in:\n",
    "    - age: **DONE**\n",
    "        - no data = average age of division \n",
    "    - reach:\n",
    "        - reach == (height + reach relative to height for division)\n",
    "    - height: **DONE**\n",
    "        - average weight of division and replace missing values with this...\n",
    "    - stance:\n",
    "        unclear...\n",
    "\n",
    "age - missing = 19/793 - pct missing = 2.4%\n",
    "stance - missing = 82/793 - pct missing = 10.34%    \n",
    "height - missing = 98/793 - pct missing = 12.36%    \n",
    "reach - missing = 380/793 - pct missing = 47.92%    \n",
    "birth place - missing = 79/793 - pct missing = 9.96%"
   ]
  },
  {
   "cell_type": "code",
   "execution_count": 2,
   "metadata": {},
   "outputs": [],
   "source": [
    "import pandas as pd\n",
    "import numpy as np\n",
    "\n",
    "boxrec_data = pd.read_csv('boxrec_tables.csv')\n",
    "df = pd.DataFrame(boxrec_data)\n"
   ]
  },
  {
   "cell_type": "code",
   "execution_count": 3,
   "metadata": {},
   "outputs": [],
   "source": [
    "df.replace(to_replace='None', value=np.nan, regex=True, inplace=True)"
   ]
  },
  {
   "cell_type": "code",
   "execution_count": 4,
   "metadata": {},
   "outputs": [],
   "source": [
    "df.insert(3, 'div index', '')\n"
   ]
  },
  {
   "cell_type": "code",
   "execution_count": 5,
   "metadata": {},
   "outputs": [],
   "source": [
    "div_list = ['heavy', 'cruiser', 'lightheavy', 'supermiddle', 'middle', 'superwelter', 'welter', 'superlight', 'light', 'feather', 'superbantam', 'bantam', 'superfly', 'fly', 'lightfly', 'minimum']\n",
    "\n",
    "x = 0\n",
    "for value in df['division']:\n",
    "    df.at[x, 'div index'] = div_list.index(value)\n",
    "    x += 1"
   ]
  },
  {
   "cell_type": "code",
   "execution_count": 6,
   "metadata": {},
   "outputs": [],
   "source": [
    "ds = df.sort_values(by=['div index', 'division rating'], ascending=True)\n",
    "rounds = df.sort_values(by=['rounds'], ascending = False)"
   ]
  },
  {
   "cell_type": "code",
   "execution_count": null,
   "metadata": {},
   "outputs": [],
   "source": [
    "# ds.dtypes \n",
    "# Can see age/height/reach need to be turned to float64s\n",
    "cols_to_convert = ['age', 'height', 'reach']\n",
    "\n",
    "for col in cols_to_convert:\n",
    "    ds[col] = ds[col].astype(float)\n",
    "\n",
    "ds"
   ]
  },
  {
   "cell_type": "code",
   "execution_count": null,
   "metadata": {},
   "outputs": [],
   "source": [
    "average_by_division = ds.groupby(['division']).mean(numeric_only=True)\n",
    "\n",
    "average_everything_numeric = ds.mean(numeric_only=True)"
   ]
  },
  {
   "cell_type": "code",
   "execution_count": null,
   "metadata": {},
   "outputs": [],
   "source": [
    "def replace_nan_with_mean(column, grouping_column):\n",
    "    ds[column] = ds.groupby(grouping_column)[column].transform(lambda x: x.fillna(round(x.mean(), 2)))"
   ]
  },
  {
   "cell_type": "code",
   "execution_count": null,
   "metadata": {},
   "outputs": [],
   "source": [
    "replace_nan_with_mean('age', 'division')\n",
    "replace_nan_with_mean('height', 'division')"
   ]
  },
  {
   "cell_type": "code",
   "execution_count": null,
   "metadata": {},
   "outputs": [],
   "source": [
    "diff_reach = ds.reach - ds.height\n",
    "ds.insert(12, 'diff reach', diff_reach)\n",
    "\n",
    "replace_nan_with_mean('diff reach', 'division')"
   ]
  },
  {
   "cell_type": "code",
   "execution_count": null,
   "metadata": {},
   "outputs": [],
   "source": [
    "ds.reach = ds.height + ds['diff reach']\n",
    "\n",
    "ds"
   ]
  },
  {
   "cell_type": "code",
   "execution_count": null,
   "metadata": {},
   "outputs": [],
   "source": [
    "ds.plot.scatter(x='rounds', y='bouts', c='div index', colormap='viridis')"
   ]
  },
  {
   "cell_type": "code",
   "execution_count": null,
   "metadata": {},
   "outputs": [],
   "source": [
    "ds.plot.scatter(x='height', y='reach', c='div index', colormap='viridis')"
   ]
  },
  {
   "cell_type": "code",
   "execution_count": null,
   "metadata": {},
   "outputs": [],
   "source": [
    "ds.plot.scatter(x='height', y='KOs', c='div index', colormap='viridis')"
   ]
  },
  {
   "cell_type": "code",
   "execution_count": null,
   "metadata": {},
   "outputs": [],
   "source": [
    "ds.plot.scatter(x='division rating', y='losses', c='div index', colormap='viridis')\n",
    "ds.plot.scatter(x='division rating', y='wins', c='div index', colormap='viridis')"
   ]
  },
  {
   "cell_type": "code",
   "execution_count": null,
   "metadata": {},
   "outputs": [],
   "source": [
    "ds['height'].hist(bins=15, legend=True)\n",
    "ds['reach'].hist(bins=15, legend=True)\n"
   ]
  },
  {
   "cell_type": "code",
   "execution_count": null,
   "metadata": {},
   "outputs": [],
   "source": [
    "from pathlib import Path\n",
    "bout_data = pd.read_csv(Path(\"C:/Users/smbal/Desktop/Data Science MSc/General/Web Scraping/analysis/boxrec-analysis/bout_data.csv\"),index_col=[0,1])\n",
    "second_df = pd.DataFrame(bout_data)\n"
   ]
  }
 ],
 "metadata": {
  "kernelspec": {
   "display_name": "Python 3.10.4 64-bit",
   "language": "python",
   "name": "python3"
  },
  "language_info": {
   "codemirror_mode": {
    "name": "ipython",
    "version": 3
   },
   "file_extension": ".py",
   "mimetype": "text/x-python",
   "name": "python",
   "nbconvert_exporter": "python",
   "pygments_lexer": "ipython3",
   "version": "3.10.4"
  },
  "orig_nbformat": 4,
  "vscode": {
   "interpreter": {
    "hash": "06b0aa4c7316fd05e1fbc35be8f0e5fb9e74ae2fa97553ccced32907b2c022cf"
   }
  }
 },
 "nbformat": 4,
 "nbformat_minor": 2
}
